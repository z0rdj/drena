{
  "nbformat": 4,
  "nbformat_minor": 0,
  "metadata": {
    "accelerator": "GPU",
    "colab": {
      "name": "Pratical_Assignment_2_ResNet",
      "provenance": [],
      "collapsed_sections": [],
      "include_colab_link": true
    },
    "kernelspec": {
      "display_name": "Python 3",
      "name": "python3"
    },
    "language_info": {
      "name": "python"
    },
    "widgets": {
      "application/vnd.jupyter.widget-state+json": {
        "08fa23a4d6a14452b3f1e48d206886eb": {
          "model_module": "@jupyter-widgets/controls",
          "model_name": "HBoxModel",
          "model_module_version": "1.5.0",
          "state": {
            "_view_name": "HBoxView",
            "_dom_classes": [],
            "_model_name": "HBoxModel",
            "_view_module": "@jupyter-widgets/controls",
            "_model_module_version": "1.5.0",
            "_view_count": null,
            "_view_module_version": "1.5.0",
            "box_style": "",
            "layout": "IPY_MODEL_989cde4c98ec4122848a6b0af0937b02",
            "_model_module": "@jupyter-widgets/controls",
            "children": [
              "IPY_MODEL_36d159a3d61d4dd3814bc2390b8a0d1f",
              "IPY_MODEL_ee302155bc1748f88b7a515e4b7a8c97",
              "IPY_MODEL_1c60479df9634df2b0cf79aeff1a5d6c"
            ]
          }
        },
        "989cde4c98ec4122848a6b0af0937b02": {
          "model_module": "@jupyter-widgets/base",
          "model_name": "LayoutModel",
          "model_module_version": "1.2.0",
          "state": {
            "_view_name": "LayoutView",
            "grid_template_rows": null,
            "right": null,
            "justify_content": null,
            "_view_module": "@jupyter-widgets/base",
            "overflow": null,
            "_model_module_version": "1.2.0",
            "_view_count": null,
            "flex_flow": null,
            "width": null,
            "min_width": null,
            "border": null,
            "align_items": null,
            "bottom": null,
            "_model_module": "@jupyter-widgets/base",
            "top": null,
            "grid_column": null,
            "overflow_y": null,
            "overflow_x": null,
            "grid_auto_flow": null,
            "grid_area": null,
            "grid_template_columns": null,
            "flex": null,
            "_model_name": "LayoutModel",
            "justify_items": null,
            "grid_row": null,
            "max_height": null,
            "align_content": null,
            "visibility": null,
            "align_self": null,
            "height": null,
            "min_height": null,
            "padding": null,
            "grid_auto_rows": null,
            "grid_gap": null,
            "max_width": null,
            "order": null,
            "_view_module_version": "1.2.0",
            "grid_template_areas": null,
            "object_position": null,
            "object_fit": null,
            "grid_auto_columns": null,
            "margin": null,
            "display": null,
            "left": null
          }
        },
        "36d159a3d61d4dd3814bc2390b8a0d1f": {
          "model_module": "@jupyter-widgets/controls",
          "model_name": "HTMLModel",
          "model_module_version": "1.5.0",
          "state": {
            "_view_name": "HTMLView",
            "style": "IPY_MODEL_b426b20c93984ea5b86dd99e9e77cd2f",
            "_dom_classes": [],
            "description": "",
            "_model_name": "HTMLModel",
            "placeholder": "​",
            "_view_module": "@jupyter-widgets/controls",
            "_model_module_version": "1.5.0",
            "value": "",
            "_view_count": null,
            "_view_module_version": "1.5.0",
            "description_tooltip": null,
            "_model_module": "@jupyter-widgets/controls",
            "layout": "IPY_MODEL_4140db897219434c98e55baf1d92df09"
          }
        },
        "ee302155bc1748f88b7a515e4b7a8c97": {
          "model_module": "@jupyter-widgets/controls",
          "model_name": "FloatProgressModel",
          "model_module_version": "1.5.0",
          "state": {
            "_view_name": "ProgressView",
            "style": "IPY_MODEL_658488176dab4f169f7684995f0bb173",
            "_dom_classes": [],
            "description": "",
            "_model_name": "FloatProgressModel",
            "bar_style": "success",
            "max": 170498071,
            "_view_module": "@jupyter-widgets/controls",
            "_model_module_version": "1.5.0",
            "value": 170498071,
            "_view_count": null,
            "_view_module_version": "1.5.0",
            "orientation": "horizontal",
            "min": 0,
            "description_tooltip": null,
            "_model_module": "@jupyter-widgets/controls",
            "layout": "IPY_MODEL_8ab89b3a8ede470ead0a750e084ed921"
          }
        },
        "1c60479df9634df2b0cf79aeff1a5d6c": {
          "model_module": "@jupyter-widgets/controls",
          "model_name": "HTMLModel",
          "model_module_version": "1.5.0",
          "state": {
            "_view_name": "HTMLView",
            "style": "IPY_MODEL_8561e21ef0b9400fbae826840288675f",
            "_dom_classes": [],
            "description": "",
            "_model_name": "HTMLModel",
            "placeholder": "​",
            "_view_module": "@jupyter-widgets/controls",
            "_model_module_version": "1.5.0",
            "value": " 170499072/? [00:03&lt;00:00, 53033842.37it/s]",
            "_view_count": null,
            "_view_module_version": "1.5.0",
            "description_tooltip": null,
            "_model_module": "@jupyter-widgets/controls",
            "layout": "IPY_MODEL_94f9bb3c2101481a9a0565e67453e3a6"
          }
        },
        "b426b20c93984ea5b86dd99e9e77cd2f": {
          "model_module": "@jupyter-widgets/controls",
          "model_name": "DescriptionStyleModel",
          "model_module_version": "1.5.0",
          "state": {
            "_view_name": "StyleView",
            "_model_name": "DescriptionStyleModel",
            "description_width": "",
            "_view_module": "@jupyter-widgets/base",
            "_model_module_version": "1.5.0",
            "_view_count": null,
            "_view_module_version": "1.2.0",
            "_model_module": "@jupyter-widgets/controls"
          }
        },
        "4140db897219434c98e55baf1d92df09": {
          "model_module": "@jupyter-widgets/base",
          "model_name": "LayoutModel",
          "model_module_version": "1.2.0",
          "state": {
            "_view_name": "LayoutView",
            "grid_template_rows": null,
            "right": null,
            "justify_content": null,
            "_view_module": "@jupyter-widgets/base",
            "overflow": null,
            "_model_module_version": "1.2.0",
            "_view_count": null,
            "flex_flow": null,
            "width": null,
            "min_width": null,
            "border": null,
            "align_items": null,
            "bottom": null,
            "_model_module": "@jupyter-widgets/base",
            "top": null,
            "grid_column": null,
            "overflow_y": null,
            "overflow_x": null,
            "grid_auto_flow": null,
            "grid_area": null,
            "grid_template_columns": null,
            "flex": null,
            "_model_name": "LayoutModel",
            "justify_items": null,
            "grid_row": null,
            "max_height": null,
            "align_content": null,
            "visibility": null,
            "align_self": null,
            "height": null,
            "min_height": null,
            "padding": null,
            "grid_auto_rows": null,
            "grid_gap": null,
            "max_width": null,
            "order": null,
            "_view_module_version": "1.2.0",
            "grid_template_areas": null,
            "object_position": null,
            "object_fit": null,
            "grid_auto_columns": null,
            "margin": null,
            "display": null,
            "left": null
          }
        },
        "658488176dab4f169f7684995f0bb173": {
          "model_module": "@jupyter-widgets/controls",
          "model_name": "ProgressStyleModel",
          "model_module_version": "1.5.0",
          "state": {
            "_view_name": "StyleView",
            "_model_name": "ProgressStyleModel",
            "description_width": "",
            "_view_module": "@jupyter-widgets/base",
            "_model_module_version": "1.5.0",
            "_view_count": null,
            "_view_module_version": "1.2.0",
            "bar_color": null,
            "_model_module": "@jupyter-widgets/controls"
          }
        },
        "8ab89b3a8ede470ead0a750e084ed921": {
          "model_module": "@jupyter-widgets/base",
          "model_name": "LayoutModel",
          "model_module_version": "1.2.0",
          "state": {
            "_view_name": "LayoutView",
            "grid_template_rows": null,
            "right": null,
            "justify_content": null,
            "_view_module": "@jupyter-widgets/base",
            "overflow": null,
            "_model_module_version": "1.2.0",
            "_view_count": null,
            "flex_flow": null,
            "width": null,
            "min_width": null,
            "border": null,
            "align_items": null,
            "bottom": null,
            "_model_module": "@jupyter-widgets/base",
            "top": null,
            "grid_column": null,
            "overflow_y": null,
            "overflow_x": null,
            "grid_auto_flow": null,
            "grid_area": null,
            "grid_template_columns": null,
            "flex": null,
            "_model_name": "LayoutModel",
            "justify_items": null,
            "grid_row": null,
            "max_height": null,
            "align_content": null,
            "visibility": null,
            "align_self": null,
            "height": null,
            "min_height": null,
            "padding": null,
            "grid_auto_rows": null,
            "grid_gap": null,
            "max_width": null,
            "order": null,
            "_view_module_version": "1.2.0",
            "grid_template_areas": null,
            "object_position": null,
            "object_fit": null,
            "grid_auto_columns": null,
            "margin": null,
            "display": null,
            "left": null
          }
        },
        "8561e21ef0b9400fbae826840288675f": {
          "model_module": "@jupyter-widgets/controls",
          "model_name": "DescriptionStyleModel",
          "model_module_version": "1.5.0",
          "state": {
            "_view_name": "StyleView",
            "_model_name": "DescriptionStyleModel",
            "description_width": "",
            "_view_module": "@jupyter-widgets/base",
            "_model_module_version": "1.5.0",
            "_view_count": null,
            "_view_module_version": "1.2.0",
            "_model_module": "@jupyter-widgets/controls"
          }
        },
        "94f9bb3c2101481a9a0565e67453e3a6": {
          "model_module": "@jupyter-widgets/base",
          "model_name": "LayoutModel",
          "model_module_version": "1.2.0",
          "state": {
            "_view_name": "LayoutView",
            "grid_template_rows": null,
            "right": null,
            "justify_content": null,
            "_view_module": "@jupyter-widgets/base",
            "overflow": null,
            "_model_module_version": "1.2.0",
            "_view_count": null,
            "flex_flow": null,
            "width": null,
            "min_width": null,
            "border": null,
            "align_items": null,
            "bottom": null,
            "_model_module": "@jupyter-widgets/base",
            "top": null,
            "grid_column": null,
            "overflow_y": null,
            "overflow_x": null,
            "grid_auto_flow": null,
            "grid_area": null,
            "grid_template_columns": null,
            "flex": null,
            "_model_name": "LayoutModel",
            "justify_items": null,
            "grid_row": null,
            "max_height": null,
            "align_content": null,
            "visibility": null,
            "align_self": null,
            "height": null,
            "min_height": null,
            "padding": null,
            "grid_auto_rows": null,
            "grid_gap": null,
            "max_width": null,
            "order": null,
            "_view_module_version": "1.2.0",
            "grid_template_areas": null,
            "object_position": null,
            "object_fit": null,
            "grid_auto_columns": null,
            "margin": null,
            "display": null,
            "left": null
          }
        }
      }
    }
  },
  "cells": [
    {
      "cell_type": "markdown",
      "metadata": {
        "id": "view-in-github",
        "colab_type": "text"
      },
      "source": [
        "<a href=\"https://colab.research.google.com/github/z0rdj/drena/blob/master/Pratical_Assignment_2_ResNet.ipynb\" target=\"_parent\"><img src=\"https://colab.research.google.com/assets/colab-badge.svg\" alt=\"Open In Colab\"/></a>"
      ]
    },
    {
      "cell_type": "markdown",
      "metadata": {
        "id": "SndYr-dptInL"
      },
      "source": [
        "# **Assignment 1**\n",
        "\n",
        " In this assignment you are going to learn how to build a CNN model, train it and test it. This is fundamental for your upcoming assignments. This first assignment is for getting started purposes. It will not be required for you to provide a report."
      ]
    },
    {
      "cell_type": "markdown",
      "metadata": {
        "id": "6HBLiCKJf4Fi"
      },
      "source": [
        "**Contents:**\n",
        "*   Build a CNN\n",
        "*   Load and prepare a Dataset\n",
        "*   Training a model\n",
        "*   Testing a model\n",
        "\n",
        "In case of implementation doubts, check the PyTorch documentation (https://pytorch.org/docs/stable/nn.html)\n",
        "\n",
        "\n",
        "\n",
        "\n",
        "\n",
        "\n",
        "\n",
        "\n",
        "\n",
        "\n"
      ]
    },
    {
      "cell_type": "markdown",
      "metadata": {
        "id": "e1bGxQYSvlhE"
      },
      "source": [
        "# **Tutorial**\n",
        "Let's start by importing the torch libray."
      ]
    },
    {
      "cell_type": "code",
      "metadata": {
        "id": "jPurnZtjhCvi"
      },
      "source": [
        "# Library imports\n",
        "import torch\n",
        "import torch.nn as nn \n",
        "import torch.nn.functional as F\n",
        "import torchvision.models as models"
      ],
      "execution_count": 19,
      "outputs": []
    },
    {
      "cell_type": "markdown",
      "metadata": {
        "id": "eVz0Hv98U6cc"
      },
      "source": [
        "###**Initializing the network:**\n",
        "*   Assign the CNN model to the GPU (if available)\n",
        "*   Check the CNN architecure using torchsummary (important to check if the layers' input and output dimensions are correctly set)\n"
      ]
    },
    {
      "cell_type": "code",
      "metadata": {
        "colab": {
          "base_uri": "https://localhost:8080/",
          "height": 130
        },
        "id": "kNhVGbtXpIIP",
        "outputId": "d16b6652-e70e-4687-f189-1bf025c45bbe"
      },
      "source": [
        "# Check your built CNN model\n",
        "cnn_model = models.resnet18(pretrained=True)\n",
        "#pretrained=True\n",
        "#cnn_model = nnModel(10)\n",
        "print(cnn_model.fc.out_features) # 1000 \n",
        "#print(\"CNN Architecture: \"+ str(cnn_model))\n",
        "\n",
        "\n",
        "\n",
        "# Freeze training for all layers\n",
        "#for param in cnn_model.layer.parameters():\n",
        " #  param.require_grad = False\n",
        "\n",
        "lt=9\n",
        "child_counter=0\n",
        "\n",
        "child_counter = 0\n",
        "for child in cnn_model.children():\n",
        "   print(\" child\", child_counter, \"is:\")\n",
        "   print(child)\n",
        "   if child_counter < lt:\n",
        "        # print child\n",
        "        print(child)\n",
        "        for param in cnn_model.child.parameters():\n",
        "            param.requires_grad = False\n",
        "     child_counter += 1\n",
        "# Newly created modules have require_grad=True by default\n",
        "num_features = cnn_model.fc.in_features\n",
        "features = list(cnn_model.fc.children())[:-1] # Remove last layer\n",
        "features.extend([nn.Linear(num_features, 10)]) # Add our layer with 10 outputs\n",
        "cnn_model.fc = nn.Linear(num_features,10) # Replace the model classifier\n",
        "print(cnn_model)\n",
        "\n",
        "\n",
        "\n",
        "\n",
        "\n",
        "device = torch.device(\"cuda\" if torch.cuda.is_available() else \"cpu\") \n",
        "print('\\nThe model will run on', device)\n",
        "cnn_model = cnn_model.to(device)\n",
        "\n",
        "# Using the torchsummary, you can check your network in more detail\n",
        "import torchsummary\n",
        "print(\"\\n\\n\")\n",
        "torchsummary.summary(cnn_model, input_size = (3, 32, 32), batch_size = 5) \n",
        "\n"
      ],
      "execution_count": 60,
      "outputs": [
        {
          "output_type": "error",
          "ename": "IndentationError",
          "evalue": "ignored",
          "traceback": [
            "\u001b[0;36m  File \u001b[0;32m\"<ipython-input-60-afff0b4f644e>\"\u001b[0;36m, line \u001b[0;32m26\u001b[0m\n\u001b[0;31m    child_counter += 1\u001b[0m\n\u001b[0m                      ^\u001b[0m\n\u001b[0;31mIndentationError\u001b[0m\u001b[0;31m:\u001b[0m unindent does not match any outer indentation level\n"
          ]
        }
      ]
    },
    {
      "cell_type": "code",
      "metadata": {
        "id": "Gmrz-w9pSSKa"
      },
      "source": [
        "from google.colab import drive\n",
        "drive.mount('/content/drive')"
      ],
      "execution_count": null,
      "outputs": []
    },
    {
      "cell_type": "markdown",
      "metadata": {
        "id": "wVmLdXM1-h5Z"
      },
      "source": [
        "## **Dataset**"
      ]
    },
    {
      "cell_type": "markdown",
      "metadata": {
        "id": "E8NKyPl9WKpM"
      },
      "source": [
        "####**Dataset**\n",
        "MNIST database - a set ot 70,000 28×28 pixel grayscale images of handwritten digits (a training set with 60,000 examples, and a test set with 10,000 examples)\n",
        "\n",
        "**Goal:** Classify images of handwritten digits into one of 10 classes representing the values from 0 to 9.\n",
        "\n"
      ]
    },
    {
      "cell_type": "code",
      "metadata": {
        "colab": {
          "base_uri": "https://localhost:8080/",
          "height": 84,
          "referenced_widgets": [
            "08fa23a4d6a14452b3f1e48d206886eb",
            "989cde4c98ec4122848a6b0af0937b02",
            "36d159a3d61d4dd3814bc2390b8a0d1f",
            "ee302155bc1748f88b7a515e4b7a8c97",
            "1c60479df9634df2b0cf79aeff1a5d6c",
            "b426b20c93984ea5b86dd99e9e77cd2f",
            "4140db897219434c98e55baf1d92df09",
            "658488176dab4f169f7684995f0bb173",
            "8ab89b3a8ede470ead0a750e084ed921",
            "8561e21ef0b9400fbae826840288675f",
            "94f9bb3c2101481a9a0565e67453e3a6"
          ]
        },
        "id": "mWnulhmYLSYO",
        "outputId": "a094288d-96ec-4af2-c337-73726b14a144"
      },
      "source": [
        "# Library imports\n",
        "from torchvision . datasets import CIFAR10\n",
        "import torchvision . transforms as tt\n",
        "import numpy as np\n",
        "#transform = tt . ToTensor () #fazer o resize\n",
        "transform = tt.Compose([\n",
        "                                tt.Resize(224),\n",
        "                                tt.RandomHorizontalFlip(p=0.1),\n",
        "                                tt.ToTensor(),\n",
        "                                tt.Normalize((0.485,0.456,0.406),(0.229,0.224,0.225))\n",
        "                                \n",
        "                                ])\n",
        "training_data = CIFAR10 ( download = True , root =\"./ data \", transform = transform )\n",
        "testing_data = CIFAR10 ( root =\"./ data \", train = False , transform = transform )\n",
        "from torch.utils.data.sampler import SubsetRandomSampler # Sampler "
      ],
      "execution_count": 13,
      "outputs": [
        {
          "output_type": "stream",
          "name": "stdout",
          "text": [
            "Downloading https://www.cs.toronto.edu/~kriz/cifar-10-python.tar.gz to ./ data /cifar-10-python.tar.gz\n"
          ]
        },
        {
          "output_type": "display_data",
          "data": {
            "application/vnd.jupyter.widget-view+json": {
              "model_id": "08fa23a4d6a14452b3f1e48d206886eb",
              "version_minor": 0,
              "version_major": 2
            },
            "text/plain": [
              "  0%|          | 0/170498071 [00:00<?, ?it/s]"
            ]
          },
          "metadata": {}
        },
        {
          "output_type": "stream",
          "name": "stdout",
          "text": [
            "Extracting ./ data /cifar-10-python.tar.gz to ./ data \n"
          ]
        }
      ]
    },
    {
      "cell_type": "code",
      "metadata": {
        "colab": {
          "base_uri": "https://localhost:8080/"
        },
        "id": "EHdAxTPt--FK",
        "outputId": "64ac48b9-8fbe-4cf7-9fdf-6aa9f15c0ab0"
      },
      "source": [
        "# Download the dataset online available on PyTorch \n",
        "# Transform\n",
        "\n",
        "# [\n",
        "#   transforms.RandomResizedCrop(32)\n",
        "#   transforms.Rando\n",
        "# ]\n",
        "\n",
        "# transform = transforms.ToTensor()\n",
        "\n",
        "# training_data = datasets.MNIST(root='data', train=True, download=True, transform=transform)\n",
        "# testing_data  = datasets.MNIST(root='data', train=False, download=True, transform=transform)\n",
        "\n",
        "# Dataset is already divided in training and testing. \n",
        "# However, to analize the model over the training step, and also perform cross-validation, the training set must be divided in two parts:\n",
        "#   Training Set (80%)\n",
        "#   Validation Set (20%)\n",
        "\n",
        "# Lets start to obtain training indices\n",
        "num_train = len(training_data)\n",
        "print(\"Number of images in original training set: \" + str(num_train)) # 60 000\n",
        "indices = list(range(num_train))\n",
        "\n",
        "# Randomly Shuffle\n",
        "np.random.shuffle(indices)\n",
        "\n",
        "# Split 80%/20%\n",
        "split = int(np.floor(num_train * 0.2)) # 12 000\n",
        "print(\"Split Number: \" + str(split))\n",
        "training_idx, valid_idx = indices[split:], indices[:split] # 48 000 / 12 000\n",
        "print(\"Number of training images: \" + str(len(training_idx)))\n",
        "print(\"Number of validation images: \" + str(len(valid_idx)))\n",
        "\n",
        "# Lets also see how many images are on testing set\n",
        "print(\"Number of images in the testing set: \" + str(len(testing_data))) # 10 000"
      ],
      "execution_count": 14,
      "outputs": [
        {
          "output_type": "stream",
          "name": "stdout",
          "text": [
            "Number of images in original training set: 50000\n",
            "Split Number: 10000\n",
            "Number of training images: 40000\n",
            "Number of validation images: 10000\n",
            "Number of images in the testing set: 10000\n"
          ]
        }
      ]
    },
    {
      "cell_type": "code",
      "metadata": {
        "id": "Kqn0KRR_NYB-"
      },
      "source": [
        "# To train the network, you must \"encode\" the data into a PyTorch dataloader\n",
        "# Since you divided the original training set in 2, now you need to assign the indices to the samples\n",
        "training_sampler = SubsetRandomSampler(training_idx)\n",
        "valid_sampler = SubsetRandomSampler(valid_idx)\n",
        "\n",
        "batch_size = 128 # 16 images per batch\n",
        "\n",
        "# Training Set\n",
        "training_loader = torch.utils.data.DataLoader(dataset = training_data, \\\n",
        "                                              batch_size = batch_size, \\\n",
        "                                              sampler = training_sampler)\n",
        "\n",
        "# Validation Set\n",
        "valid_loader = torch.utils.data.DataLoader(dataset = training_data, \\\n",
        "                                           batch_size = batch_size, \\\n",
        "                                           sampler = valid_sampler)\n",
        "\n",
        "# Testing Set\n",
        "# Here, you do not need the \"sampler\" input, since you did not change the original testing set\n",
        "testing_loader = torch.utils.data.DataLoader(dataset = testing_data, \\\n",
        "                                           batch_size = batch_size, \\\n",
        "                                           shuffle = True)\n"
      ],
      "execution_count": 15,
      "outputs": []
    },
    {
      "cell_type": "code",
      "metadata": {
        "colab": {
          "base_uri": "https://localhost:8080/",
          "height": 1000
        },
        "id": "q_Cbsy28UhUT",
        "outputId": "06a4ed2b-a347-4230-83ad-f0b1e903a7c2"
      },
      "source": [
        "# Visualization of a whole batch\n",
        "import matplotlib.pyplot as plt\n",
        "\n",
        "# Get images\n",
        "dataiter = iter(training_loader)\n",
        "images, labels = dataiter.next() # Get the images and their labels\n",
        "\n",
        "# Plot the whole batch \n",
        "fig = plt.figure(figsize=(25, 4))\n",
        "# Loop over all the images in the batch(16)\n",
        "for idx in np.arange(batch_size):\n",
        "    ax = fig.add_subplot(2, batch_size/2, idx+1, xticks=[], yticks=[])\n",
        "    # Subplot with the image \n",
        "    plt.imshow(np.transpose(images[idx],(1,2,0)))\n",
        "    # print out the correct label for each image\n",
        "    # .item() gets the value contained in a Tensor\n",
        "    ax.set_title(str(labels[idx].item()))"
      ],
      "execution_count": 16,
      "outputs": [
        {
          "output_type": "stream",
          "name": "stderr",
          "text": [
            "Clipping input data to the valid range for imshow with RGB data ([0..1] for floats or [0..255] for integers).\n",
            "Clipping input data to the valid range for imshow with RGB data ([0..1] for floats or [0..255] for integers).\n",
            "Clipping input data to the valid range for imshow with RGB data ([0..1] for floats or [0..255] for integers).\n",
            "Clipping input data to the valid range for imshow with RGB data ([0..1] for floats or [0..255] for integers).\n",
            "Clipping input data to the valid range for imshow with RGB data ([0..1] for floats or [0..255] for integers).\n",
            "Clipping input data to the valid range for imshow with RGB data ([0..1] for floats or [0..255] for integers).\n",
            "Clipping input data to the valid range for imshow with RGB data ([0..1] for floats or [0..255] for integers).\n",
            "Clipping input data to the valid range for imshow with RGB data ([0..1] for floats or [0..255] for integers).\n",
            "Clipping input data to the valid range for imshow with RGB data ([0..1] for floats or [0..255] for integers).\n",
            "Clipping input data to the valid range for imshow with RGB data ([0..1] for floats or [0..255] for integers).\n",
            "Clipping input data to the valid range for imshow with RGB data ([0..1] for floats or [0..255] for integers).\n",
            "Clipping input data to the valid range for imshow with RGB data ([0..1] for floats or [0..255] for integers).\n",
            "Clipping input data to the valid range for imshow with RGB data ([0..1] for floats or [0..255] for integers).\n",
            "Clipping input data to the valid range for imshow with RGB data ([0..1] for floats or [0..255] for integers).\n",
            "Clipping input data to the valid range for imshow with RGB data ([0..1] for floats or [0..255] for integers).\n",
            "Clipping input data to the valid range for imshow with RGB data ([0..1] for floats or [0..255] for integers).\n",
            "Clipping input data to the valid range for imshow with RGB data ([0..1] for floats or [0..255] for integers).\n",
            "Clipping input data to the valid range for imshow with RGB data ([0..1] for floats or [0..255] for integers).\n",
            "Clipping input data to the valid range for imshow with RGB data ([0..1] for floats or [0..255] for integers).\n",
            "Clipping input data to the valid range for imshow with RGB data ([0..1] for floats or [0..255] for integers).\n",
            "Clipping input data to the valid range for imshow with RGB data ([0..1] for floats or [0..255] for integers).\n",
            "Clipping input data to the valid range for imshow with RGB data ([0..1] for floats or [0..255] for integers).\n",
            "Clipping input data to the valid range for imshow with RGB data ([0..1] for floats or [0..255] for integers).\n",
            "Clipping input data to the valid range for imshow with RGB data ([0..1] for floats or [0..255] for integers).\n",
            "Clipping input data to the valid range for imshow with RGB data ([0..1] for floats or [0..255] for integers).\n",
            "Clipping input data to the valid range for imshow with RGB data ([0..1] for floats or [0..255] for integers).\n",
            "Clipping input data to the valid range for imshow with RGB data ([0..1] for floats or [0..255] for integers).\n",
            "Clipping input data to the valid range for imshow with RGB data ([0..1] for floats or [0..255] for integers).\n",
            "Clipping input data to the valid range for imshow with RGB data ([0..1] for floats or [0..255] for integers).\n",
            "Clipping input data to the valid range for imshow with RGB data ([0..1] for floats or [0..255] for integers).\n",
            "Clipping input data to the valid range for imshow with RGB data ([0..1] for floats or [0..255] for integers).\n",
            "Clipping input data to the valid range for imshow with RGB data ([0..1] for floats or [0..255] for integers).\n",
            "Clipping input data to the valid range for imshow with RGB data ([0..1] for floats or [0..255] for integers).\n",
            "Clipping input data to the valid range for imshow with RGB data ([0..1] for floats or [0..255] for integers).\n",
            "Clipping input data to the valid range for imshow with RGB data ([0..1] for floats or [0..255] for integers).\n",
            "Clipping input data to the valid range for imshow with RGB data ([0..1] for floats or [0..255] for integers).\n",
            "Clipping input data to the valid range for imshow with RGB data ([0..1] for floats or [0..255] for integers).\n",
            "Clipping input data to the valid range for imshow with RGB data ([0..1] for floats or [0..255] for integers).\n",
            "Clipping input data to the valid range for imshow with RGB data ([0..1] for floats or [0..255] for integers).\n",
            "Clipping input data to the valid range for imshow with RGB data ([0..1] for floats or [0..255] for integers).\n",
            "Clipping input data to the valid range for imshow with RGB data ([0..1] for floats or [0..255] for integers).\n",
            "Clipping input data to the valid range for imshow with RGB data ([0..1] for floats or [0..255] for integers).\n",
            "Clipping input data to the valid range for imshow with RGB data ([0..1] for floats or [0..255] for integers).\n",
            "Clipping input data to the valid range for imshow with RGB data ([0..1] for floats or [0..255] for integers).\n",
            "Clipping input data to the valid range for imshow with RGB data ([0..1] for floats or [0..255] for integers).\n",
            "Clipping input data to the valid range for imshow with RGB data ([0..1] for floats or [0..255] for integers).\n",
            "Clipping input data to the valid range for imshow with RGB data ([0..1] for floats or [0..255] for integers).\n",
            "Clipping input data to the valid range for imshow with RGB data ([0..1] for floats or [0..255] for integers).\n",
            "Clipping input data to the valid range for imshow with RGB data ([0..1] for floats or [0..255] for integers).\n",
            "Clipping input data to the valid range for imshow with RGB data ([0..1] for floats or [0..255] for integers).\n",
            "Clipping input data to the valid range for imshow with RGB data ([0..1] for floats or [0..255] for integers).\n",
            "Clipping input data to the valid range for imshow with RGB data ([0..1] for floats or [0..255] for integers).\n",
            "Clipping input data to the valid range for imshow with RGB data ([0..1] for floats or [0..255] for integers).\n",
            "Clipping input data to the valid range for imshow with RGB data ([0..1] for floats or [0..255] for integers).\n",
            "Clipping input data to the valid range for imshow with RGB data ([0..1] for floats or [0..255] for integers).\n",
            "Clipping input data to the valid range for imshow with RGB data ([0..1] for floats or [0..255] for integers).\n",
            "Clipping input data to the valid range for imshow with RGB data ([0..1] for floats or [0..255] for integers).\n",
            "Clipping input data to the valid range for imshow with RGB data ([0..1] for floats or [0..255] for integers).\n",
            "Clipping input data to the valid range for imshow with RGB data ([0..1] for floats or [0..255] for integers).\n",
            "Clipping input data to the valid range for imshow with RGB data ([0..1] for floats or [0..255] for integers).\n",
            "Clipping input data to the valid range for imshow with RGB data ([0..1] for floats or [0..255] for integers).\n",
            "Clipping input data to the valid range for imshow with RGB data ([0..1] for floats or [0..255] for integers).\n",
            "Clipping input data to the valid range for imshow with RGB data ([0..1] for floats or [0..255] for integers).\n",
            "Clipping input data to the valid range for imshow with RGB data ([0..1] for floats or [0..255] for integers).\n",
            "Clipping input data to the valid range for imshow with RGB data ([0..1] for floats or [0..255] for integers).\n",
            "Clipping input data to the valid range for imshow with RGB data ([0..1] for floats or [0..255] for integers).\n",
            "Clipping input data to the valid range for imshow with RGB data ([0..1] for floats or [0..255] for integers).\n",
            "Clipping input data to the valid range for imshow with RGB data ([0..1] for floats or [0..255] for integers).\n",
            "Clipping input data to the valid range for imshow with RGB data ([0..1] for floats or [0..255] for integers).\n",
            "Clipping input data to the valid range for imshow with RGB data ([0..1] for floats or [0..255] for integers).\n",
            "Clipping input data to the valid range for imshow with RGB data ([0..1] for floats or [0..255] for integers).\n",
            "Clipping input data to the valid range for imshow with RGB data ([0..1] for floats or [0..255] for integers).\n",
            "Clipping input data to the valid range for imshow with RGB data ([0..1] for floats or [0..255] for integers).\n",
            "Clipping input data to the valid range for imshow with RGB data ([0..1] for floats or [0..255] for integers).\n",
            "Clipping input data to the valid range for imshow with RGB data ([0..1] for floats or [0..255] for integers).\n",
            "Clipping input data to the valid range for imshow with RGB data ([0..1] for floats or [0..255] for integers).\n",
            "Clipping input data to the valid range for imshow with RGB data ([0..1] for floats or [0..255] for integers).\n",
            "Clipping input data to the valid range for imshow with RGB data ([0..1] for floats or [0..255] for integers).\n",
            "Clipping input data to the valid range for imshow with RGB data ([0..1] for floats or [0..255] for integers).\n",
            "Clipping input data to the valid range for imshow with RGB data ([0..1] for floats or [0..255] for integers).\n",
            "Clipping input data to the valid range for imshow with RGB data ([0..1] for floats or [0..255] for integers).\n",
            "Clipping input data to the valid range for imshow with RGB data ([0..1] for floats or [0..255] for integers).\n",
            "Clipping input data to the valid range for imshow with RGB data ([0..1] for floats or [0..255] for integers).\n",
            "Clipping input data to the valid range for imshow with RGB data ([0..1] for floats or [0..255] for integers).\n",
            "Clipping input data to the valid range for imshow with RGB data ([0..1] for floats or [0..255] for integers).\n",
            "Clipping input data to the valid range for imshow with RGB data ([0..1] for floats or [0..255] for integers).\n",
            "Clipping input data to the valid range for imshow with RGB data ([0..1] for floats or [0..255] for integers).\n",
            "Clipping input data to the valid range for imshow with RGB data ([0..1] for floats or [0..255] for integers).\n",
            "Clipping input data to the valid range for imshow with RGB data ([0..1] for floats or [0..255] for integers).\n",
            "Clipping input data to the valid range for imshow with RGB data ([0..1] for floats or [0..255] for integers).\n",
            "Clipping input data to the valid range for imshow with RGB data ([0..1] for floats or [0..255] for integers).\n",
            "Clipping input data to the valid range for imshow with RGB data ([0..1] for floats or [0..255] for integers).\n",
            "Clipping input data to the valid range for imshow with RGB data ([0..1] for floats or [0..255] for integers).\n",
            "Clipping input data to the valid range for imshow with RGB data ([0..1] for floats or [0..255] for integers).\n",
            "Clipping input data to the valid range for imshow with RGB data ([0..1] for floats or [0..255] for integers).\n",
            "Clipping input data to the valid range for imshow with RGB data ([0..1] for floats or [0..255] for integers).\n",
            "Clipping input data to the valid range for imshow with RGB data ([0..1] for floats or [0..255] for integers).\n",
            "Clipping input data to the valid range for imshow with RGB data ([0..1] for floats or [0..255] for integers).\n",
            "Clipping input data to the valid range for imshow with RGB data ([0..1] for floats or [0..255] for integers).\n",
            "Clipping input data to the valid range for imshow with RGB data ([0..1] for floats or [0..255] for integers).\n",
            "Clipping input data to the valid range for imshow with RGB data ([0..1] for floats or [0..255] for integers).\n",
            "Clipping input data to the valid range for imshow with RGB data ([0..1] for floats or [0..255] for integers).\n",
            "Clipping input data to the valid range for imshow with RGB data ([0..1] for floats or [0..255] for integers).\n",
            "Clipping input data to the valid range for imshow with RGB data ([0..1] for floats or [0..255] for integers).\n",
            "Clipping input data to the valid range for imshow with RGB data ([0..1] for floats or [0..255] for integers).\n",
            "Clipping input data to the valid range for imshow with RGB data ([0..1] for floats or [0..255] for integers).\n",
            "Clipping input data to the valid range for imshow with RGB data ([0..1] for floats or [0..255] for integers).\n",
            "Clipping input data to the valid range for imshow with RGB data ([0..1] for floats or [0..255] for integers).\n",
            "Clipping input data to the valid range for imshow with RGB data ([0..1] for floats or [0..255] for integers).\n",
            "Clipping input data to the valid range for imshow with RGB data ([0..1] for floats or [0..255] for integers).\n",
            "Clipping input data to the valid range for imshow with RGB data ([0..1] for floats or [0..255] for integers).\n",
            "Clipping input data to the valid range for imshow with RGB data ([0..1] for floats or [0..255] for integers).\n",
            "Clipping input data to the valid range for imshow with RGB data ([0..1] for floats or [0..255] for integers).\n",
            "Clipping input data to the valid range for imshow with RGB data ([0..1] for floats or [0..255] for integers).\n",
            "Clipping input data to the valid range for imshow with RGB data ([0..1] for floats or [0..255] for integers).\n",
            "Clipping input data to the valid range for imshow with RGB data ([0..1] for floats or [0..255] for integers).\n",
            "Clipping input data to the valid range for imshow with RGB data ([0..1] for floats or [0..255] for integers).\n",
            "Clipping input data to the valid range for imshow with RGB data ([0..1] for floats or [0..255] for integers).\n",
            "Clipping input data to the valid range for imshow with RGB data ([0..1] for floats or [0..255] for integers).\n",
            "Clipping input data to the valid range for imshow with RGB data ([0..1] for floats or [0..255] for integers).\n",
            "Clipping input data to the valid range for imshow with RGB data ([0..1] for floats or [0..255] for integers).\n",
            "Clipping input data to the valid range for imshow with RGB data ([0..1] for floats or [0..255] for integers).\n",
            "Clipping input data to the valid range for imshow with RGB data ([0..1] for floats or [0..255] for integers).\n",
            "Clipping input data to the valid range for imshow with RGB data ([0..1] for floats or [0..255] for integers).\n",
            "Clipping input data to the valid range for imshow with RGB data ([0..1] for floats or [0..255] for integers).\n",
            "Clipping input data to the valid range for imshow with RGB data ([0..1] for floats or [0..255] for integers).\n",
            "Clipping input data to the valid range for imshow with RGB data ([0..1] for floats or [0..255] for integers).\n",
            "Clipping input data to the valid range for imshow with RGB data ([0..1] for floats or [0..255] for integers).\n"
          ]
        },
        {
          "output_type": "display_data",
          "data": {
            "image/png": "[encoded data removed]",
            "text/plain": [
              "<Figure size 1800x288 with 128 Axes>"
            ]
          },
          "metadata": {}
        }
      ]
    },
    {
      "cell_type": "markdown",
      "metadata": {
        "id": "0n1B_H-oYMWC"
      },
      "source": [
        "## **Training**"
      ]
    },
    {
      "cell_type": "code",
      "metadata": {
        "id": "LvQlR5H2fEwS"
      },
      "source": [
        "# Library imports\n",
        "import torch.optim as optim"
      ],
      "execution_count": 17,
      "outputs": []
    },
    {
      "cell_type": "code",
      "metadata": {
        "id": "CwtPNxmBcQpC",
        "colab": {
          "base_uri": "https://localhost:8080/",
          "height": 235
        },
        "outputId": "9deac081-4271-45ef-f33a-c0324fadb3c3"
      },
      "source": [
        "# To train a CNN, you must choose (or develop) a loss function, an optimizer algorithm, and a set of hyper-parameters (learning rate, number of epochs, etc)\n",
        "# Hyper-parameters\n",
        "lr = 0.0001\n",
        "num_epochs = 30\n",
        "\n",
        "# Loss Function\n",
        "criterion = nn.CrossEntropyLoss() # Cross entropy loss function is widely used in classification problems\n",
        "# Optimizer Algorithm\n",
        "optimizer = optim.Adam(cnn_model.parameters(), lr = lr)\n",
        "\n",
        "# Training\n",
        "running_loss = 0.0\n",
        "\n",
        "for epoch in range(num_epochs):\n",
        "  for batch_id, data in enumerate(training_loader, 0):\n",
        "    # Get the images and their labels\n",
        "    images, labels = data\n",
        "    # Send the images and their labels to the training device\n",
        "    images, labels = images.to(device), labels.to(device)\n",
        "\n",
        "    # Pass images through the CNN\n",
        "    outputs = cnn_model(images)\n",
        "\n",
        "    # Create a loss value\n",
        "    loss = criterion(outputs, labels)\n",
        "\n",
        "    # Backpropagation\n",
        "    optimizer.zero_grad() # zero the parameter gradients\n",
        "    loss.backward()\n",
        "    optimizer.step()\n",
        "\n",
        "    # Check some statistics\n",
        "    running_loss += loss.item()\n",
        "    if batch_id % 1000 == 999: # prints every 1000 batchs\n",
        "      print('[%d, %5d] loss: %.3f' % (epoch + 1, batch_id + 1, running_loss / 1000))\n",
        "      running_loss = 0.0\n",
        "  \n",
        "  # For each epoch, analize the model performance\n",
        "  valid_correct = 0\n",
        "  valid_total = 0\n",
        "  valid_total_loss = 0\n",
        "  with torch.no_grad(): # In this part, you will not train, so you don't need to calculate gradients\n",
        "    for valid_batch_id, valid_data in enumerate(valid_loader, 0):\n",
        "      valid_images, valid_labels = valid_data\n",
        "      valid_images, valid_labels = valid_images.to(device), valid_labels.to(device)\n",
        "      valid_outputs = cnn_model(valid_images)\n",
        "      valid_loss = criterion(valid_outputs, valid_labels)\n",
        "      valid_total_loss += valid_loss.item()\n",
        "      _, valid_predicted = torch.max(valid_outputs.data, 1)\n",
        "      valid_total += valid_labels.size(0)\n",
        "      valid_correct += (valid_predicted == valid_labels).sum().item()\n",
        "  print(\"(Validation Set) Epoch: \" + str(epoch + 1) + \" Loss: \" + str(valid_total_loss/ len(valid_idx)) + \" Acc: \" + str(100*valid_correct/valid_total))\n",
        "\n",
        "print(\"Training is completed!\")\n"
      ],
      "execution_count": 18,
      "outputs": [
        {
          "output_type": "error",
          "ename": "KeyboardInterrupt",
          "evalue": "ignored",
          "traceback": [
            "\u001b[0;31m---------------------------------------------------------------------------\u001b[0m",
            "\u001b[0;31mKeyboardInterrupt\u001b[0m                         Traceback (most recent call last)",
            "\u001b[0;32m<ipython-input-18-d51cd793217a>\u001b[0m in \u001b[0;36m<module>\u001b[0;34m()\u001b[0m\n\u001b[1;32m     31\u001b[0m \u001b[0;34m\u001b[0m\u001b[0m\n\u001b[1;32m     32\u001b[0m     \u001b[0;31m# Check some statistics\u001b[0m\u001b[0;34m\u001b[0m\u001b[0;34m\u001b[0m\u001b[0;34m\u001b[0m\u001b[0m\n\u001b[0;32m---> 33\u001b[0;31m     \u001b[0mrunning_loss\u001b[0m \u001b[0;34m+=\u001b[0m \u001b[0mloss\u001b[0m\u001b[0;34m.\u001b[0m\u001b[0mitem\u001b[0m\u001b[0;34m(\u001b[0m\u001b[0;34m)\u001b[0m\u001b[0;34m\u001b[0m\u001b[0;34m\u001b[0m\u001b[0m\n\u001b[0m\u001b[1;32m     34\u001b[0m     \u001b[0;32mif\u001b[0m \u001b[0mbatch_id\u001b[0m \u001b[0;34m%\u001b[0m \u001b[0;36m1000\u001b[0m \u001b[0;34m==\u001b[0m \u001b[0;36m999\u001b[0m\u001b[0;34m:\u001b[0m \u001b[0;31m# prints every 1000 batchs\u001b[0m\u001b[0;34m\u001b[0m\u001b[0;34m\u001b[0m\u001b[0m\n\u001b[1;32m     35\u001b[0m       \u001b[0mprint\u001b[0m\u001b[0;34m(\u001b[0m\u001b[0;34m'[%d, %5d] loss: %.3f'\u001b[0m \u001b[0;34m%\u001b[0m \u001b[0;34m(\u001b[0m\u001b[0mepoch\u001b[0m \u001b[0;34m+\u001b[0m \u001b[0;36m1\u001b[0m\u001b[0;34m,\u001b[0m \u001b[0mbatch_id\u001b[0m \u001b[0;34m+\u001b[0m \u001b[0;36m1\u001b[0m\u001b[0;34m,\u001b[0m \u001b[0mrunning_loss\u001b[0m \u001b[0;34m/\u001b[0m \u001b[0;36m1000\u001b[0m\u001b[0;34m)\u001b[0m\u001b[0;34m)\u001b[0m\u001b[0;34m\u001b[0m\u001b[0;34m\u001b[0m\u001b[0m\n",
            "\u001b[0;31mKeyboardInterrupt\u001b[0m: "
          ]
        }
      ]
    },
    {
      "cell_type": "markdown",
      "metadata": {
        "id": "DiS68eR-xnN8"
      },
      "source": [
        "## **Testing**"
      ]
    },
    {
      "cell_type": "code",
      "metadata": {
        "id": "yVNRi6qaxwy7",
        "colab": {
          "base_uri": "https://localhost:8080/"
        },
        "outputId": "934bf76c-aa69-4ecd-8076-e10cad3f0979"
      },
      "source": [
        "from sklearn.metrics import confusion_matrix\n",
        "\n",
        "# Evaluate a CNN is similar to the training process without the backpropagation.\n",
        "# To evaluate a CNN, we need to follow the evaluation metrics\n",
        "num_classes = 10\n",
        "correct = 0\n",
        "total = 0\n",
        "class_correct = list(0. for i in range(num_classes))\n",
        "class_total = list(0. for i in range(num_classes))\n",
        "conf_matrix =[[0 for x in range(num_classes)] for y in range(num_classes)]\n",
        "\n",
        "cnn_model.eval()\n",
        "\n",
        "with torch.no_grad(): # You are not training, so you don't need to calculate gradients\n",
        "  for batch_id, data in enumerate(testing_loader, 0):\n",
        "    # Get the images and their labels\n",
        "    images, labels = data\n",
        "    # Send the images and their labels to the training device\n",
        "    images, labels = images.to(device), labels.to(device)\n",
        "\n",
        "    # Calculate the CNN's predictions by running images through the network\n",
        "    outputs = cnn_model(images)\n",
        "\n",
        "    # The class with the highest\n",
        "    _, predicted = torch.max(outputs.data, 1)\n",
        "\n",
        "    # Get model's performance\n",
        "    total += labels.size(0)\n",
        "    correct += (predicted == labels).sum().item()\n",
        "    c = (predicted == labels).squeeze()\n",
        "\n",
        "    for i in range(len(images)):\n",
        "      label = labels[i]\n",
        "      class_correct[label] += c[i].item()\n",
        "      class_total[label] += 1\n",
        "    \n",
        "    conf_matrix+=confusion_matrix(predicted.cpu(), labels.cpu(),labels=[x for x in range( num_classes )])\n",
        "\n",
        "# Show model's performance\n",
        "print('Accuracy using {} test images: {} %\\n'.format(total,100 * correct / total))\n",
        "# Performance per Class\n",
        "for i in range(num_classes):\n",
        "  if class_total[i] == 0:\n",
        "    print('Accuracy of %2s : %2d %% in %d Images' % (i, 0, 0))\n",
        "  else:\n",
        "    print('Accuracy of %2s : %2d %% in %d Images' % (i, 100 * class_correct[i] / class_total[i], class_total[i]))\n",
        "\n",
        "# Confusion Matrix\n",
        "print('\\nConfusion Matrix')\n",
        "print(conf_matrix)\n",
        " \n"
      ],
      "execution_count": null,
      "outputs": [
        {
          "output_type": "stream",
          "name": "stdout",
          "text": [
            "Accuracy using 10000 test images: 80.31 %\n",
            "\n",
            "Accuracy of  0 : 83 % in 1000 Images\n",
            "Accuracy of  1 : 90 % in 1000 Images\n",
            "Accuracy of  2 : 69 % in 1000 Images\n",
            "Accuracy of  3 : 60 % in 1000 Images\n",
            "Accuracy of  4 : 77 % in 1000 Images\n",
            "Accuracy of  5 : 76 % in 1000 Images\n",
            "Accuracy of  6 : 86 % in 1000 Images\n",
            "Accuracy of  7 : 84 % in 1000 Images\n",
            "Accuracy of  8 : 88 % in 1000 Images\n",
            "Accuracy of  9 : 84 % in 1000 Images\n",
            "\n",
            "Confusion Matrix\n",
            "[[839  15  37  17  10  10   3   8  49  25]\n",
            " [ 13 909   0   7   2   5   7   1  13  66]\n",
            " [ 31   1 699  55  58  15  30   8  12   2]\n",
            " [ 17   6  52 603  39 125  45  27  14  12]\n",
            " [ 17   3  65  54 774  24  19  35   5   5]\n",
            " [  8   4  69 174  40 766  25  57   3   5]\n",
            " [  7   3  41  39  33  27 864   3   6  11]\n",
            " [  9   0  22  30  38  20   1 846   2   9]\n",
            " [ 37  22  10  12   6   5   2   2 882  16]\n",
            " [ 22  37   5   9   0   3   4  13  14 849]]\n"
          ]
        }
      ]
    }
  ]
}